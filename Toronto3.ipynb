{
    "nbformat_minor": 1, 
    "cells": [
        {
            "source": "### <h1>Exploring the Neighborhoods in Toronto (Skip to part 3)</h1>", 
            "cell_type": "markdown", 
            "metadata": {}
        }, 
        {
   "cell_type": "markdown",
   "metadata": {},
   "source": [
    "<h3>Utilizing the Foursquare API and data analysis methods to explore and cluster the neighborhoods in North York, Toronto.</h3>"
   ]
  },
        {
            "source": "<h2>Part 1:</h2>", 
            "cell_type": "markdown", 
            "metadata": {}
        }, 
        {
            "execution_count": null, 
            "cell_type": "code", 
            "metadata": {}, 
            "outputs": [], 
            "source": "#First, we import the necessary libraries\nimport pandas as pd\nfrom bs4 import BeautifulSoup\nimport requests\nimport csv\n\n#Then we scrape the Wikipedia page for the required table data, and we save it in a .CSV file:\nsource = requests.get('https://en.wikipedia.org/wiki/List_of_postal_codes_of_Canada:_M').text\ntree = BeautifulSoup(source, 'lxml')\n\ncsv_file = open(\"table_data.csv\",\"w\",newline='')\ncsv_writer = csv.writer(csv_file)\n\ntable_tag = tree.select(\"table\")[0]\ntab_data = [[item.text.split('\\n')[0] for item in row_data.select(\"th,td\")]\n                for row_data in table_tag.select(\"tr\")]\n\nfor data in tab_data:\n    csv_writer.writerow(data)\n\n    \n#We read our .CSV file into a dataframe:\ndf = pd.read_csv('table_data.csv')\n\n#Remove all table rows without assigned boroughs:\ndf = df.drop(df.index[df.Borough == 'Not assigned'])\n\n#Replace 'Not assigned' in Neighbourhood column with corresponding value from Borough column:\ndf.loc[df.Neighbourhood == 'Not assigned', 'Neighbourhood'] = df['Borough']\n\n#Group data by Postcode and join all neighbourhoods that exist in the same postal code area:\ndf = df.groupby('Postcode').agg(lambda x: ','.join(set(x))).reset_index()\n\n#Finally, we print the final number of rows and columns:\ndf.shape"
        }, 
        {
            "execution_count": null, 
            "cell_type": "code", 
            "metadata": {}, 
            "outputs": [], 
            "source": "df.head()"
        }, 
        {
            "source": "<h2>Part 2:</h2>", 
            "cell_type": "markdown", 
            "metadata": {}
        }, 
        {
            "execution_count": null, 
            "cell_type": "code", 
            "metadata": {}, 
            "outputs": [], 
            "source": "#First, we read the .CSV containg the longitude and latitude data into a new dataframe:\ngeodf = pd.read_csv('https://cocl.us/Geospatial_data')\n\n#Then, we add the columns from the new geo-dataframe to our existing dataframe:\ndf = df.join(geodf)\ndf.head()"
        }, 
        {
            "source": "<h2> Part3:</h2>", 
            "cell_type": "markdown", 
            "metadata": {}
        }, 
        {
            "source": "<h3>Download all the dependencies that we will need:</h3>", 
            "cell_type": "markdown", 
            "metadata": {}
        }, 
        {
            "execution_count": null, 
            "cell_type": "code", 
            "metadata": {}, 
            "outputs": [], 
            "source": "import numpy as np # library to handle data in a vectorized manner\n\nfrom geopy.geocoders import Nominatim # convert an address into latitude and longitude values\n\n# Matplotlib and associated plotting modules\nimport matplotlib.cm as cm\nimport matplotlib.colors as colors\n\n# import k-means from clustering stage\nfrom sklearn.cluster import KMeans\n\n!conda install -c conda-forge folium=0.5.0 --yes # uncomment this line if you haven't completed the Foursquare API lab\nimport folium # map rendering library\n\nprint('Libraries imported.')"
        }, 
        {
            "source": "<h3>Use geopy library to get the latitude and longitude values of Toronto:</h3>", 
            "cell_type": "markdown", 
            "metadata": {}
        }, 
        {
            "execution_count": null, 
            "cell_type": "code", 
            "metadata": {}, 
            "outputs": [], 
            "source": "address = 'TORONTO'\n\ngeolocator = Nominatim(user_agent=\"toronto_explorer\")\nlocation = geolocator.geocode(address)\nlatitude = location.latitude\nlongitude = location.longitude\nprint('The geograpical coordinate of Toronto are {}, {}.'.format(latitude, longitude))"
        }, 
        {
            "source": "<h3>Create a map of Toronto with neighborhoods superimposed on top:</h3>", 
            "cell_type": "markdown", 
            "metadata": {}
        }, 
        {
            "execution_count": null, 
            "cell_type": "code", 
            "metadata": {}, 
            "outputs": [], 
            "source": "# create map of Toronto using latitude and longitude values\nmap_toronto = folium.Map(location=[latitude, longitude], zoom_start=10)\n\n# add markers to map\nfor lat, lng, borough, neighbourhood in zip(df['Latitude'], df['Longitude'], df['Borough'], df['Neighbourhood']):\n    label = '{}, {}'.format(neighbourhood, borough)\n    label = folium.Popup(label, parse_html=True)\n    folium.CircleMarker(\n        [lat, lng],\n        radius=5,\n        popup=label,\n        color='blue',\n        fill=True,\n        fill_color='#3186cc',\n        fill_opacity=0.7,\n        parse_html=False).add_to(map_toronto)  \n    \nmap_toronto"
        }, 
        {
            "source": "<h3>slice the original dataframe and create a new dataframe of the North York data:</h3>\n<h4>(We will segment and cluster only the neighborhoods in North York)</h4>", 
            "cell_type": "markdown", 
            "metadata": {}
        }, 
        {
            "execution_count": null, 
            "cell_type": "code", 
            "metadata": {}, 
            "outputs": [], 
            "source": "northyork_data = df[df['Borough'] == 'North York'].reset_index(drop=True)\nnorthyork_data.head()"
        }, 
        {
            "source": "<h3>Get the geographical coordinates of North York:</h3>", 
            "cell_type": "markdown", 
            "metadata": {}
        }, 
        {
            "execution_count": null, 
            "cell_type": "code", 
            "metadata": {}, 
            "outputs": [], 
            "source": "address = 'NORTH YORK, TORONTO'\n\ngeolocator = Nominatim(user_agent=\"nyork_explorer\")\nlocation = geolocator.geocode(address)\nlatitude = location.latitude\nlongitude = location.longitude\nprint('The geograpical coordinate of North York are {}, {}.'.format(latitude, longitude))"
        }, 
        {
            "source": "<h3>Create a map of North York and the neighborhoods in it:</h3>", 
            "cell_type": "markdown", 
            "metadata": {}
        }, 
        {
            "execution_count": null, 
            "cell_type": "code", 
            "metadata": {}, 
            "outputs": [], 
            "source": "# create map of North York using latitude and longitude values\nmap_northyork = folium.Map(location=[latitude, longitude], zoom_start=11)\n\n# add markers to map\nfor lat, lng, label in zip(northyork_data['Latitude'], northyork_data['Longitude'], northyork_data['Neighbourhood']):\n    label = folium.Popup(label, parse_html=True)\n    folium.CircleMarker(\n        [lat, lng],\n        radius=5,\n        popup=label,\n        color='blue',\n        fill=True,\n        fill_color='#3186cc',\n        fill_opacity=0.7,\n        parse_html=False).add_to(map_northyork)  \n    \nmap_northyork"
        }, 
        {
            "source": "<h3>Next, we are going to start utilizing the Foursquare API to explore the neighborhoods and segment them:</h3>", 
            "cell_type": "markdown", 
            "metadata": {}
        }, 
        {
            "execution_count": null, 
            "cell_type": "code", 
            "metadata": {}, 
            "outputs": [], 
            "source": "#Define Foursquare Credentials and Version\nCLIENT_ID = 'XONGSW5WHN5CIGFMF1UVIU34PIXE4ULNPLJQYF1QFWARXIAO' \nCLIENT_SECRET = 'JXMZRATAXWLJL5CBMXBXU5ESYNC3SHTBCZTFTNWEKWOUTDG0' \nVERSION = '20180605' \nprint('Your credentails:')\nprint('CLIENT_ID: ' + CLIENT_ID)\nprint('CLIENT_SECRET:' + CLIENT_SECRET)"
        }, 
        {
            "source": "<h3>Explore the first neighbourhood in our dataframe:</h3>", 
            "cell_type": "markdown", 
            "metadata": {}
        }, 
        {
            "execution_count": null, 
            "cell_type": "code", 
            "metadata": {}, 
            "outputs": [], 
            "source": "#Get the neighboUrhood's name\nnorthyork_data.loc[0, 'Neighbourhood']"
        }, 
        {
            "execution_count": null, 
            "cell_type": "code", 
            "metadata": {}, 
            "outputs": [], 
            "source": "#Get the neighbourhood's latitude and longitude values\nneighbourhood_latitude = northyork_data.loc[0, 'Latitude'] # neighborhood latitude value\nneighbourhood_longitude = northyork_data.loc[0, 'Longitude'] # neighborhood longitude value\n\nneighbourhood_name = northyork_data.loc[0, 'Neighbourhood'] # neighborhood name\n\nprint('Latitude and longitude values of {} are {}, {}.'.format(neighbourhood_name, \n                                                               neighbourhood_latitude, \n                                                               neighbourhood_longitude))"
        }, 
        {
            "source": "<h3>Now, let's get the top 100 venues that are in Hillcrest Village within a radius of 500 meters:</h3>", 
            "cell_type": "markdown", 
            "metadata": {}
        }, 
        {
            "execution_count": null, 
            "cell_type": "code", 
            "metadata": {}, 
            "outputs": [], 
            "source": "#Create the GET request URL\n\nLIMIT = 100\nradius = 500 \n\n#Create URL\nurl = 'https://api.foursquare.com/v2/venues/explore?&client_id={}&client_secret={}&v={}&ll={},{}&radius={}&limit={}'.format(\n    CLIENT_ID, \n    CLIENT_SECRET, \n    VERSION, \n    neighbourhood_latitude, \n    neighbourhood_longitude, \n    radius, \n    LIMIT)\nurl"
        }, 
        {
            "execution_count": null, 
            "cell_type": "code", 
            "metadata": {}, 
            "outputs": [], 
            "source": "#Send the GET request and examine the resutls\nresults = requests.get(url).json()\nresults"
        }, 
        {
            "source": "<h3>Return venues from Foursquare:</h3>", 
            "cell_type": "markdown", 
            "metadata": {}
        }, 
        {
            "execution_count": null, 
            "cell_type": "code", 
            "metadata": {}, 
            "outputs": [], 
            "source": "# function that extracts the category of the venue\ndef get_category_type(row):\n    try:\n        categories_list = row['categories']\n    except:\n        categories_list = row['venue.categories']\n        \n    if len(categories_list) == 0:\n        return None\n    else:\n        return categories_list[0]['name']"
        }, 
        {
            "execution_count": null, 
            "cell_type": "code", 
            "metadata": {}, 
            "outputs": [], 
            "source": "#Clean the json and structure it into a pandas dataframe\nimport json # library to handle JSON files\n\nvenues = results['response']['groups'][0]['items']\n    \nnearby_venues = json_normalize(venues) # flatten JSON\n\n# filter columns\nfiltered_columns = ['venue.name', 'venue.categories', 'venue.location.lat', 'venue.location.lng']\nnearby_venues =nearby_venues.loc[:, filtered_columns]\n\n# filter the category for each row\nnearby_venues['venue.categories'] = nearby_venues.apply(get_category_type, axis=1)\n\n# clean columns\nnearby_venues.columns = [col.split(\".\")[-1] for col in nearby_venues.columns]\n\nnearby_venues.head()"
        }, 
        {
            "execution_count": null, 
            "cell_type": "code", 
            "metadata": {}, 
            "outputs": [], 
            "source": "#Number of venues returned by foursqaure:\nprint('{} venues were returned by Foursquare.'.format(nearby_venues.shape[0]))"
        }, 
        {
            "source": "<h3>Explore neighbourhoods in North York:</h3>", 
            "cell_type": "markdown", 
            "metadata": {}
        }, 
        {
            "execution_count": null, 
            "cell_type": "code", 
            "metadata": {}, 
            "outputs": [], 
            "source": "#create a function to repeat the same process to all the neighborhoods in North York\ndef getNearbyVenues(names, latitudes, longitudes, radius=500):\n    \n    venues_list=[]\n    for name, lat, lng in zip(names, latitudes, longitudes):\n        print(name)\n            \n        # create the API request URL\n        url = 'https://api.foursquare.com/v2/venues/explore?&client_id={}&client_secret={}&v={}&ll={},{}&radius={}&limit={}'.format(\n            CLIENT_ID, \n            CLIENT_SECRET, \n            VERSION, \n            lat, \n            lng, \n            radius, \n            LIMIT)\n            \n        # make the GET request\n        results = requests.get(url).json()[\"response\"]['groups'][0]['items']\n        \n        # return only relevant information for each nearby venue\n        venues_list.append([(\n            name, \n            lat, \n            lng, \n            v['venue']['name'], \n            v['venue']['location']['lat'], \n            v['venue']['location']['lng'],  \n            v['venue']['categories'][0]['name']) for v in results])\n\n    nearby_venues = pd.DataFrame([item for venue_list in venues_list for item in venue_list])\n    nearby_venues.columns = ['Neighbourhood', \n                  'Neighbourhood Latitude', \n                  'Neighbourhood Longitude', \n                  'Venue', \n                  'Venue Latitude', \n                  'Venue Longitude', \n                  'Venue Category']\n    \n    return(nearby_venues)"
        }, 
        {
            "execution_count": null, 
            "cell_type": "code", 
            "metadata": {}, 
            "outputs": [], 
            "source": "#run the above function on each neighborhood and create a new dataframe called northyork_venues\nnorthyork_venues = getNearbyVenues(names=northyork_data['Neighbourhood'],\n                                   latitudes=northyork_data['Latitude'],\n                                   longitudes=northyork_data['Longitude']\n                                  )"
        }, 
        {
            "execution_count": null, 
            "cell_type": "code", 
            "metadata": {}, 
            "outputs": [], 
            "source": "#check the size of the resulting dataframe\nprint(northyork_venues.shape)\nnorthyork_venues.head()"
        }, 
        {
            "execution_count": null, 
            "cell_type": "code", 
            "metadata": {}, 
            "outputs": [], 
            "source": "#check how many venues were returned for each neighborhood\nnorthyork_venues.groupby('Neighbourhood').count()"
        }, 
        {
            "execution_count": null, 
            "cell_type": "code", 
            "metadata": {}, 
            "outputs": [], 
            "source": "#find out how many unique categories can be curated from all the returned venues\nprint('There are {} uniques categories.'.format(len(northyork_venues['Venue Category'].unique())))"
        }, 
        {
            "source": "<h3>Analyzing Each Neighbourhood:</h3>", 
            "cell_type": "markdown", 
            "metadata": {}
        }, 
        {
            "execution_count": null, 
            "cell_type": "code", 
            "metadata": {}, 
            "outputs": [], 
            "source": "# one hot encoding\nnorthyork_onehot = pd.get_dummies(northyork_venues[['Venue Category']], prefix=\"\", prefix_sep=\"\")\n\n# add neighbourhood column back to dataframe\nnorthyork_onehot['Neighbourhood'] = northyork_venues['Neighbourhood'] \n\n# move neighbourhood column to the first column\nfixed_columns = [northyork_onehot.columns[-1]] + list(northyork_onehot.columns[:-1])\nnorthyork_onehot = northyork_onehot[fixed_columns]\n\nnorthyork_onehot.head()"
        }, 
        {
            "execution_count": null, 
            "cell_type": "code", 
            "metadata": {}, 
            "outputs": [], 
            "source": "#examine the new dataframe size\nnorthyork_onehot.shape"
        }, 
        {
            "execution_count": null, 
            "cell_type": "code", 
            "metadata": {}, 
            "outputs": [], 
            "source": "#group rows by neighborhood and by taking the mean of the frequency of occurrence of each category\nnorthyork_grouped = northyork_onehot.groupby('Neighbourhood').mean().reset_index()\nnorthyork_grouped"
        }, 
        {
            "execution_count": null, 
            "cell_type": "code", 
            "metadata": {}, 
            "outputs": [], 
            "source": "#confirm the new size\nnorthyork_grouped.shape"
        }, 
        {
            "execution_count": null, 
            "cell_type": "code", 
            "metadata": {}, 
            "outputs": [], 
            "source": "#print each neighborhood along with the top 5 most common venues\nnum_top_venues = 5\n\nfor hood in northyork_grouped['Neighbourhood']:\n    print(\"----\"+hood+\"----\")\n    temp = northyork_grouped[northyork_grouped['Neighbourhood'] == hood].T.reset_index()\n    temp.columns = ['venue','freq']\n    temp = temp.iloc[1:]\n    temp['freq'] = temp['freq'].astype(float)\n    temp = temp.round({'freq': 2})\n    print(temp.sort_values('freq', ascending=False).reset_index(drop=True).head(num_top_venues))\n    print('\\n')"
        }, 
        {
            "source": "<h3>Put the new analyzed data into a pandas dataframe:</h3>", 
            "cell_type": "markdown", 
            "metadata": {}
        }, 
        {
            "execution_count": null, 
            "cell_type": "code", 
            "metadata": {}, 
            "outputs": [], 
            "source": "#write a function to sort the venues in descending order\ndef return_most_common_venues(row, num_top_venues):\n    row_categories = row.iloc[1:]\n    row_categories_sorted = row_categories.sort_values(ascending=False)\n    \n    return row_categories_sorted.index.values[0:num_top_venues]"
        }, 
        {
            "execution_count": null, 
            "cell_type": "code", 
            "metadata": {}, 
            "outputs": [], 
            "source": "#create the new dataframe and display the top 10 venues for each neighbourhood\nnum_top_venues = 10\n\nindicators = ['st', 'nd', 'rd']\n\n# create columns according to number of top venues\ncolumns = ['Neighbourhood']\nfor ind in np.arange(num_top_venues):\n    try:\n        columns.append('{}{} Most Common Venue'.format(ind+1, indicators[ind]))\n    except:\n        columns.append('{}th Most Common Venue'.format(ind+1))\n\n# create a new dataframe\nneighbourhoods_venues_sorted = pd.DataFrame(columns=columns)\nneighbourhoods_venues_sorted['Neighbourhood'] = northyork_grouped['Neighbourhood']\n\nfor ind in np.arange(northyork_grouped.shape[0]):\n    neighbourhoods_venues_sorted.iloc[ind, 1:] = return_most_common_venues(northyork_grouped.iloc[ind, :], num_top_venues)\n\nneighbourhoods_venues_sorted.head()"
        }, 
        {
            "source": "<h3>Clustering the neighbourhoods:</h3>", 
            "cell_type": "markdown", 
            "metadata": {}
        }, 
        {
            "source": "<h4>Run k-means to cluster the neighborhood into 5 clusters</h4>", 
            "cell_type": "markdown", 
            "metadata": {}
        }, 
        {
            "execution_count": null, 
            "cell_type": "code", 
            "metadata": {}, 
            "outputs": [], 
            "source": "# set number of clusters\nkclusters = 5\n\nnorthyork_grouped_clustering = northyork_grouped.drop('Neighbourhood', 1)\n\n# run k-means clustering\nkmeans = KMeans(n_clusters=kclusters, random_state=0).fit(northyork_grouped_clustering)\n\n# check cluster labels generated for each row in the dataframe\nkmeans.labels_[0:10] "
        }, 
        {
            "source": "<h4>create a new dataframe that includes the cluster as well as the top 10 venues for each neighbourhood</h4>", 
            "cell_type": "markdown", 
            "metadata": {}
        }, 
        {
            "execution_count": null, 
            "cell_type": "code", 
            "metadata": {}, 
            "outputs": [], 
            "source": "# add clustering labels\nneighbourhoods_venues_sorted.insert(0, 'Cluster Labels', kmeans.labels_)\n\nnorthyork_merged = northyork_data\n\n# merge toronto_grouped with toronto_data to add latitude/longitude for each neighborhood\nnorthyork_merged = northyork_merged.join(neighbourhoods_venues_sorted.set_index('Neighbourhood'), on='Neighbourhood')\n\nnorthyork_merged.head() # check the last columns!"
        }, 
        {
            "source": "<h4>Visualize the resulting clusters</h4>", 
            "cell_type": "markdown", 
            "metadata": {}
        }, 
        {
            "execution_count": 187, 
            "cell_type": "code", 
            "metadata": {}, 
            "outputs": [
                {
                    "ename": "TypeError", 
                    "evalue": "list indices must be integers or slices, not float", 
                    "traceback": [
                        "\u001b[0;31m---------------------------------------------------------------------------\u001b[0m", 
                        "\u001b[0;31mTypeError\u001b[0m                                 Traceback (most recent call last)", 
                        "\u001b[0;32m<ipython-input-187-96cf151a477b>\u001b[0m in \u001b[0;36m<module>\u001b[0;34m()\u001b[0m\n\u001b[1;32m     16\u001b[0m         \u001b[0mradius\u001b[0m\u001b[0;34m=\u001b[0m\u001b[0;36m5\u001b[0m\u001b[0;34m,\u001b[0m\u001b[0;34m\u001b[0m\u001b[0m\n\u001b[1;32m     17\u001b[0m         \u001b[0mpopup\u001b[0m\u001b[0;34m=\u001b[0m\u001b[0mlabel\u001b[0m\u001b[0;34m,\u001b[0m\u001b[0;34m\u001b[0m\u001b[0m\n\u001b[0;32m---> 18\u001b[0;31m         \u001b[0mcolor\u001b[0m\u001b[0;34m=\u001b[0m\u001b[0mrainbow\u001b[0m\u001b[0;34m[\u001b[0m\u001b[0mcluster\u001b[0m\u001b[0;34m-\u001b[0m\u001b[0;36m1\u001b[0m\u001b[0;34m]\u001b[0m\u001b[0;34m,\u001b[0m\u001b[0;34m\u001b[0m\u001b[0m\n\u001b[0m\u001b[1;32m     19\u001b[0m         \u001b[0mfill\u001b[0m\u001b[0;34m=\u001b[0m\u001b[0;32mTrue\u001b[0m\u001b[0;34m,\u001b[0m\u001b[0;34m\u001b[0m\u001b[0m\n\u001b[1;32m     20\u001b[0m         \u001b[0mfill_color\u001b[0m\u001b[0;34m=\u001b[0m\u001b[0mrainbow\u001b[0m\u001b[0;34m[\u001b[0m\u001b[0mcluster\u001b[0m\u001b[0;34m-\u001b[0m\u001b[0;36m1\u001b[0m\u001b[0;34m]\u001b[0m\u001b[0;34m,\u001b[0m\u001b[0;34m\u001b[0m\u001b[0m\n", 
                        "\u001b[0;31mTypeError\u001b[0m: list indices must be integers or slices, not float"
                    ], 
                    "output_type": "error"
                }
            ], 
            "source": "# create map\nmap_clusters = folium.Map(location=[latitude, longitude], zoom_start=11)\n\n# set color scheme for the clusters\nx = np.arange(kclusters)\nys = [i + x + (i*x)**2 for i in range(kclusters)]\ncolors_array = cm.rainbow(np.linspace(0, 1, len(ys)))\nrainbow = [colors.rgb2hex(i) for i in colors_array]\n\n# add markers to the map\nmarkers_colors = []\nfor lat, lon, poi, cluster in zip(northyork_merged['Latitude'], northyork_merged['Longitude'], northyork_merged['Neighbourhood'], northyork_merged['Cluster Labels']):\n    label = folium.Popup(str(poi) + ' Cluster ' + str(cluster), parse_html=True)\n    folium.CircleMarker(\n        [lat, lon],\n        radius=5,\n        popup=label,\n        color=rainbow[cluster-1],\n        fill=True,\n        fill_color=rainbow[cluster-1],\n        fill_opacity=0.7).add_to(map_clusters)\n       \nmap_clusters"
        }, 
        {
            "source": "<h3>Examining each cluster:</h3>", 
            "cell_type": "markdown", 
            "metadata": {}
        }, 
        {
            "execution_count": 188, 
            "cell_type": "code", 
            "metadata": {}, 
            "outputs": [
                {
                    "execution_count": 188, 
                    "metadata": {}, 
                    "data": {
                        "text/html": "<div>\n<style scoped>\n    .dataframe tbody tr th:only-of-type {\n        vertical-align: middle;\n    }\n\n    .dataframe tbody tr th {\n        vertical-align: top;\n    }\n\n    .dataframe thead th {\n        text-align: right;\n    }\n</style>\n<table border=\"1\" class=\"dataframe\">\n  <thead>\n    <tr style=\"text-align: right;\">\n      <th></th>\n      <th>Borough</th>\n      <th>Longitude</th>\n      <th>Cluster Labels</th>\n      <th>1st Most Common Venue</th>\n      <th>2nd Most Common Venue</th>\n      <th>3rd Most Common Venue</th>\n      <th>4th Most Common Venue</th>\n      <th>5th Most Common Venue</th>\n      <th>6th Most Common Venue</th>\n      <th>7th Most Common Venue</th>\n      <th>8th Most Common Venue</th>\n      <th>9th Most Common Venue</th>\n      <th>10th Most Common Venue</th>\n    </tr>\n  </thead>\n  <tbody>\n    <tr>\n      <th>0</th>\n      <td>North York</td>\n      <td>-79.363452</td>\n      <td>0.0</td>\n      <td>Golf Course</td>\n      <td>Dog Run</td>\n      <td>Pool</td>\n      <td>Athletics &amp; Sports</td>\n      <td>Mediterranean Restaurant</td>\n      <td>Coffee Shop</td>\n      <td>Comfort Food Restaurant</td>\n      <td>Construction &amp; Landscaping</td>\n      <td>Cosmetics Shop</td>\n      <td>Deli / Bodega</td>\n    </tr>\n    <tr>\n      <th>2</th>\n      <td>North York</td>\n      <td>-79.385975</td>\n      <td>0.0</td>\n      <td>Japanese Restaurant</td>\n      <td>Bank</td>\n      <td>Caf\u00e9</td>\n      <td>Chinese Restaurant</td>\n      <td>Frozen Yogurt Shop</td>\n      <td>Discount Store</td>\n      <td>Coffee Shop</td>\n      <td>Comfort Food Restaurant</td>\n      <td>General Entertainment</td>\n      <td>Construction &amp; Landscaping</td>\n    </tr>\n    <tr>\n      <th>9</th>\n      <td>North York</td>\n      <td>-79.352188</td>\n      <td>0.0</td>\n      <td>Caribbean Restaurant</td>\n      <td>Gym / Fitness Center</td>\n      <td>Caf\u00e9</td>\n      <td>Basketball Court</td>\n      <td>Japanese Restaurant</td>\n      <td>Fried Chicken Joint</td>\n      <td>Discount Store</td>\n      <td>Comfort Food Restaurant</td>\n      <td>Furniture / Home Store</td>\n      <td>Construction &amp; Landscaping</td>\n    </tr>\n    <tr>\n      <th>16</th>\n      <td>North York</td>\n      <td>-79.520999</td>\n      <td>0.0</td>\n      <td>Grocery Store</td>\n      <td>Gym / Fitness Center</td>\n      <td>Athletics &amp; Sports</td>\n      <td>Discount Store</td>\n      <td>Liquor Store</td>\n      <td>Women's Store</td>\n      <td>Dog Run</td>\n      <td>Comfort Food Restaurant</td>\n      <td>Construction &amp; Landscaping</td>\n      <td>Cosmetics Shop</td>\n    </tr>\n    <tr>\n      <th>20</th>\n      <td>North York</td>\n      <td>-79.445073</td>\n      <td>0.0</td>\n      <td>Japanese Restaurant</td>\n      <td>Pizza Place</td>\n      <td>Metro Station</td>\n      <td>Pub</td>\n      <td>Park</td>\n      <td>Women's Store</td>\n      <td>Clothing Store</td>\n      <td>Coffee Shop</td>\n      <td>Comfort Food Restaurant</td>\n      <td>Construction &amp; Landscaping</td>\n    </tr>\n    <tr>\n      <th>21</th>\n      <td>North York</td>\n      <td>-79.490074</td>\n      <td>0.0</td>\n      <td>Park</td>\n      <td>Construction &amp; Landscaping</td>\n      <td>Bakery</td>\n      <td>Basketball Court</td>\n      <td>Electronics Store</td>\n      <td>Coffee Shop</td>\n      <td>Comfort Food Restaurant</td>\n      <td>Cosmetics Shop</td>\n      <td>Deli / Bodega</td>\n      <td>Department Store</td>\n    </tr>\n  </tbody>\n</table>\n</div>", 
                        "text/plain": "       Borough  Longitude  Cluster Labels 1st Most Common Venue  \\\n0   North York -79.363452             0.0           Golf Course   \n2   North York -79.385975             0.0   Japanese Restaurant   \n9   North York -79.352188             0.0  Caribbean Restaurant   \n16  North York -79.520999             0.0         Grocery Store   \n20  North York -79.445073             0.0   Japanese Restaurant   \n21  North York -79.490074             0.0                  Park   \n\n         2nd Most Common Venue 3rd Most Common Venue 4th Most Common Venue  \\\n0                      Dog Run                  Pool    Athletics & Sports   \n2                         Bank                  Caf\u00e9    Chinese Restaurant   \n9         Gym / Fitness Center                  Caf\u00e9      Basketball Court   \n16        Gym / Fitness Center    Athletics & Sports        Discount Store   \n20                 Pizza Place         Metro Station                   Pub   \n21  Construction & Landscaping                Bakery      Basketball Court   \n\n       5th Most Common Venue 6th Most Common Venue    7th Most Common Venue  \\\n0   Mediterranean Restaurant           Coffee Shop  Comfort Food Restaurant   \n2         Frozen Yogurt Shop        Discount Store              Coffee Shop   \n9        Japanese Restaurant   Fried Chicken Joint           Discount Store   \n16              Liquor Store         Women's Store                  Dog Run   \n20                      Park         Women's Store           Clothing Store   \n21         Electronics Store           Coffee Shop  Comfort Food Restaurant   \n\n         8th Most Common Venue       9th Most Common Venue  \\\n0   Construction & Landscaping              Cosmetics Shop   \n2      Comfort Food Restaurant       General Entertainment   \n9      Comfort Food Restaurant      Furniture / Home Store   \n16     Comfort Food Restaurant  Construction & Landscaping   \n20                 Coffee Shop     Comfort Food Restaurant   \n21              Cosmetics Shop               Deli / Bodega   \n\n        10th Most Common Venue  \n0                Deli / Bodega  \n2   Construction & Landscaping  \n9   Construction & Landscaping  \n16              Cosmetics Shop  \n20  Construction & Landscaping  \n21            Department Store  "
                    }, 
                    "output_type": "execute_result"
                }
            ], 
            "source": "#Cluster 1\nnorthyork_merged.loc[northyork_merged['Cluster Labels'] == 0, northyork_merged.columns[[1] + list(range(5, northyork_merged.shape[1]))]]"
        }, 
        {
            "execution_count": 189, 
            "cell_type": "code", 
            "metadata": {}, 
            "outputs": [
                {
                    "execution_count": 189, 
                    "metadata": {}, 
                    "data": {
                        "text/html": "<div>\n<style scoped>\n    .dataframe tbody tr th:only-of-type {\n        vertical-align: middle;\n    }\n\n    .dataframe tbody tr th {\n        vertical-align: top;\n    }\n\n    .dataframe thead th {\n        text-align: right;\n    }\n</style>\n<table border=\"1\" class=\"dataframe\">\n  <thead>\n    <tr style=\"text-align: right;\">\n      <th></th>\n      <th>Borough</th>\n      <th>Longitude</th>\n      <th>Cluster Labels</th>\n      <th>1st Most Common Venue</th>\n      <th>2nd Most Common Venue</th>\n      <th>3rd Most Common Venue</th>\n      <th>4th Most Common Venue</th>\n      <th>5th Most Common Venue</th>\n      <th>6th Most Common Venue</th>\n      <th>7th Most Common Venue</th>\n      <th>8th Most Common Venue</th>\n      <th>9th Most Common Venue</th>\n      <th>10th Most Common Venue</th>\n    </tr>\n  </thead>\n  <tbody>\n    <tr>\n      <th>6</th>\n      <td>North York</td>\n      <td>-79.400049</td>\n      <td>1.0</td>\n      <td>Park</td>\n      <td>Bank</td>\n      <td>Women's Store</td>\n      <td>Dog Run</td>\n      <td>Coffee Shop</td>\n      <td>Comfort Food Restaurant</td>\n      <td>Construction &amp; Landscaping</td>\n      <td>Cosmetics Shop</td>\n      <td>Deli / Bodega</td>\n      <td>Department Store</td>\n    </tr>\n    <tr>\n      <th>8</th>\n      <td>North York</td>\n      <td>-79.329656</td>\n      <td>1.0</td>\n      <td>Park</td>\n      <td>Food &amp; Drink Shop</td>\n      <td>Fast Food Restaurant</td>\n      <td>Women's Store</td>\n      <td>Discount Store</td>\n      <td>Coffee Shop</td>\n      <td>Comfort Food Restaurant</td>\n      <td>Construction &amp; Landscaping</td>\n      <td>Cosmetics Shop</td>\n      <td>Deli / Bodega</td>\n    </tr>\n    <tr>\n      <th>13</th>\n      <td>North York</td>\n      <td>-79.464763</td>\n      <td>1.0</td>\n      <td>Park</td>\n      <td>Airport</td>\n      <td>Bus Stop</td>\n      <td>Dog Run</td>\n      <td>Coffee Shop</td>\n      <td>Comfort Food Restaurant</td>\n      <td>Construction &amp; Landscaping</td>\n      <td>Cosmetics Shop</td>\n      <td>Deli / Bodega</td>\n      <td>Department Store</td>\n    </tr>\n  </tbody>\n</table>\n</div>", 
                        "text/plain": "       Borough  Longitude  Cluster Labels 1st Most Common Venue  \\\n6   North York -79.400049             1.0                  Park   \n8   North York -79.329656             1.0                  Park   \n13  North York -79.464763             1.0                  Park   \n\n   2nd Most Common Venue 3rd Most Common Venue 4th Most Common Venue  \\\n6                   Bank         Women's Store               Dog Run   \n8      Food & Drink Shop  Fast Food Restaurant         Women's Store   \n13               Airport              Bus Stop               Dog Run   \n\n   5th Most Common Venue    6th Most Common Venue       7th Most Common Venue  \\\n6            Coffee Shop  Comfort Food Restaurant  Construction & Landscaping   \n8         Discount Store              Coffee Shop     Comfort Food Restaurant   \n13           Coffee Shop  Comfort Food Restaurant  Construction & Landscaping   \n\n         8th Most Common Venue 9th Most Common Venue 10th Most Common Venue  \n6               Cosmetics Shop         Deli / Bodega       Department Store  \n8   Construction & Landscaping        Cosmetics Shop          Deli / Bodega  \n13              Cosmetics Shop         Deli / Bodega       Department Store  "
                    }, 
                    "output_type": "execute_result"
                }
            ], 
            "source": "#Cluster 2\nnorthyork_merged.loc[northyork_merged['Cluster Labels'] == 1, northyork_merged.columns[[1] + list(range(5, northyork_merged.shape[1]))]]"
        }, 
        {
            "execution_count": 190, 
            "cell_type": "code", 
            "metadata": {}, 
            "outputs": [
                {
                    "execution_count": 190, 
                    "metadata": {}, 
                    "data": {
                        "text/html": "<div>\n<style scoped>\n    .dataframe tbody tr th:only-of-type {\n        vertical-align: middle;\n    }\n\n    .dataframe tbody tr th {\n        vertical-align: top;\n    }\n\n    .dataframe thead th {\n        text-align: right;\n    }\n</style>\n<table border=\"1\" class=\"dataframe\">\n  <thead>\n    <tr style=\"text-align: right;\">\n      <th></th>\n      <th>Borough</th>\n      <th>Longitude</th>\n      <th>Cluster Labels</th>\n      <th>1st Most Common Venue</th>\n      <th>2nd Most Common Venue</th>\n      <th>3rd Most Common Venue</th>\n      <th>4th Most Common Venue</th>\n      <th>5th Most Common Venue</th>\n      <th>6th Most Common Venue</th>\n      <th>7th Most Common Venue</th>\n      <th>8th Most Common Venue</th>\n      <th>9th Most Common Venue</th>\n      <th>10th Most Common Venue</th>\n    </tr>\n  </thead>\n  <tbody>\n    <tr>\n      <th>14</th>\n      <td>North York</td>\n      <td>-79.506944</td>\n      <td>2.0</td>\n      <td>Grocery Store</td>\n      <td>Bank</td>\n      <td>Women's Store</td>\n      <td>Electronics Store</td>\n      <td>Coffee Shop</td>\n      <td>Comfort Food Restaurant</td>\n      <td>Construction &amp; Landscaping</td>\n      <td>Cosmetics Shop</td>\n      <td>Deli / Bodega</td>\n      <td>Department Store</td>\n    </tr>\n  </tbody>\n</table>\n</div>", 
                        "text/plain": "       Borough  Longitude  Cluster Labels 1st Most Common Venue  \\\n14  North York -79.506944             2.0         Grocery Store   \n\n   2nd Most Common Venue 3rd Most Common Venue 4th Most Common Venue  \\\n14                  Bank         Women's Store     Electronics Store   \n\n   5th Most Common Venue    6th Most Common Venue       7th Most Common Venue  \\\n14           Coffee Shop  Comfort Food Restaurant  Construction & Landscaping   \n\n   8th Most Common Venue 9th Most Common Venue 10th Most Common Venue  \n14        Cosmetics Shop         Deli / Bodega       Department Store  "
                    }, 
                    "output_type": "execute_result"
                }
            ], 
            "source": "#Cluster 3\nnorthyork_merged.loc[northyork_merged['Cluster Labels'] == 2, northyork_merged.columns[[1] + list(range(5, northyork_merged.shape[1]))]]"
        }, 
        {
            "execution_count": 191, 
            "cell_type": "code", 
            "metadata": {}, 
            "outputs": [
                {
                    "execution_count": 191, 
                    "metadata": {}, 
                    "data": {
                        "text/html": "<div>\n<style scoped>\n    .dataframe tbody tr th:only-of-type {\n        vertical-align: middle;\n    }\n\n    .dataframe tbody tr th {\n        vertical-align: top;\n    }\n\n    .dataframe thead th {\n        text-align: right;\n    }\n</style>\n<table border=\"1\" class=\"dataframe\">\n  <thead>\n    <tr style=\"text-align: right;\">\n      <th></th>\n      <th>Borough</th>\n      <th>Longitude</th>\n      <th>Cluster Labels</th>\n      <th>1st Most Common Venue</th>\n      <th>2nd Most Common Venue</th>\n      <th>3rd Most Common Venue</th>\n      <th>4th Most Common Venue</th>\n      <th>5th Most Common Venue</th>\n      <th>6th Most Common Venue</th>\n      <th>7th Most Common Venue</th>\n      <th>8th Most Common Venue</th>\n      <th>9th Most Common Venue</th>\n      <th>10th Most Common Venue</th>\n    </tr>\n  </thead>\n  <tbody>\n    <tr>\n      <th>15</th>\n      <td>North York</td>\n      <td>-79.495697</td>\n      <td>3.0</td>\n      <td>Business Service</td>\n      <td>Food Truck</td>\n      <td>Baseball Field</td>\n      <td>Women's Store</td>\n      <td>Dog Run</td>\n      <td>Coffee Shop</td>\n      <td>Comfort Food Restaurant</td>\n      <td>Construction &amp; Landscaping</td>\n      <td>Cosmetics Shop</td>\n      <td>Deli / Bodega</td>\n    </tr>\n    <tr>\n      <th>23</th>\n      <td>North York</td>\n      <td>-79.532242</td>\n      <td>3.0</td>\n      <td>Furniture / Home Store</td>\n      <td>Baseball Field</td>\n      <td>Women's Store</td>\n      <td>Dog Run</td>\n      <td>Coffee Shop</td>\n      <td>Comfort Food Restaurant</td>\n      <td>Construction &amp; Landscaping</td>\n      <td>Cosmetics Shop</td>\n      <td>Deli / Bodega</td>\n      <td>Department Store</td>\n    </tr>\n  </tbody>\n</table>\n</div>", 
                        "text/plain": "       Borough  Longitude  Cluster Labels   1st Most Common Venue  \\\n15  North York -79.495697             3.0        Business Service   \n23  North York -79.532242             3.0  Furniture / Home Store   \n\n   2nd Most Common Venue 3rd Most Common Venue 4th Most Common Venue  \\\n15            Food Truck        Baseball Field         Women's Store   \n23        Baseball Field         Women's Store               Dog Run   \n\n   5th Most Common Venue    6th Most Common Venue       7th Most Common Venue  \\\n15               Dog Run              Coffee Shop     Comfort Food Restaurant   \n23           Coffee Shop  Comfort Food Restaurant  Construction & Landscaping   \n\n         8th Most Common Venue 9th Most Common Venue 10th Most Common Venue  \n15  Construction & Landscaping        Cosmetics Shop          Deli / Bodega  \n23              Cosmetics Shop         Deli / Bodega       Department Store  "
                    }, 
                    "output_type": "execute_result"
                }
            ], 
            "source": "#Cluster 4\nnorthyork_merged.loc[northyork_merged['Cluster Labels'] == 3, northyork_merged.columns[[1] + list(range(5, northyork_merged.shape[1]))]]"
        }, 
        {
            "execution_count": 192, 
            "cell_type": "code", 
            "metadata": {}, 
            "outputs": [
                {
                    "execution_count": 192, 
                    "metadata": {}, 
                    "data": {
                        "text/html": "<div>\n<style scoped>\n    .dataframe tbody tr th:only-of-type {\n        vertical-align: middle;\n    }\n\n    .dataframe tbody tr th {\n        vertical-align: top;\n    }\n\n    .dataframe thead th {\n        text-align: right;\n    }\n</style>\n<table border=\"1\" class=\"dataframe\">\n  <thead>\n    <tr style=\"text-align: right;\">\n      <th></th>\n      <th>Borough</th>\n      <th>Longitude</th>\n      <th>Cluster Labels</th>\n      <th>1st Most Common Venue</th>\n      <th>2nd Most Common Venue</th>\n      <th>3rd Most Common Venue</th>\n      <th>4th Most Common Venue</th>\n      <th>5th Most Common Venue</th>\n      <th>6th Most Common Venue</th>\n      <th>7th Most Common Venue</th>\n      <th>8th Most Common Venue</th>\n      <th>9th Most Common Venue</th>\n      <th>10th Most Common Venue</th>\n    </tr>\n  </thead>\n  <tbody>\n    <tr>\n      <th>1</th>\n      <td>North York</td>\n      <td>-79.346556</td>\n      <td>4.0</td>\n      <td>Clothing Store</td>\n      <td>Fast Food Restaurant</td>\n      <td>Coffee Shop</td>\n      <td>Restaurant</td>\n      <td>Asian Restaurant</td>\n      <td>Bakery</td>\n      <td>Women's Store</td>\n      <td>Food Court</td>\n      <td>Gift Shop</td>\n      <td>Cosmetics Shop</td>\n    </tr>\n    <tr>\n      <th>5</th>\n      <td>North York</td>\n      <td>-79.408493</td>\n      <td>4.0</td>\n      <td>Restaurant</td>\n      <td>Ramen Restaurant</td>\n      <td>Caf\u00e9</td>\n      <td>Pizza Place</td>\n      <td>Coffee Shop</td>\n      <td>Japanese Restaurant</td>\n      <td>Sandwich Place</td>\n      <td>Shopping Mall</td>\n      <td>Pharmacy</td>\n      <td>Plaza</td>\n    </tr>\n    <tr>\n      <th>7</th>\n      <td>North York</td>\n      <td>-79.442259</td>\n      <td>4.0</td>\n      <td>Pharmacy</td>\n      <td>Pizza Place</td>\n      <td>Grocery Store</td>\n      <td>Coffee Shop</td>\n      <td>Butcher</td>\n      <td>Discount Store</td>\n      <td>Clothing Store</td>\n      <td>Comfort Food Restaurant</td>\n      <td>Construction &amp; Landscaping</td>\n      <td>Cosmetics Shop</td>\n    </tr>\n    <tr>\n      <th>10</th>\n      <td>North York</td>\n      <td>-79.340923</td>\n      <td>4.0</td>\n      <td>Coffee Shop</td>\n      <td>Asian Restaurant</td>\n      <td>Gym</td>\n      <td>Beer Store</td>\n      <td>Bike Shop</td>\n      <td>Clothing Store</td>\n      <td>Chinese Restaurant</td>\n      <td>Dim Sum Restaurant</td>\n      <td>Bus Line</td>\n      <td>Japanese Restaurant</td>\n    </tr>\n    <tr>\n      <th>11</th>\n      <td>North York</td>\n      <td>-79.442259</td>\n      <td>4.0</td>\n      <td>Coffee Shop</td>\n      <td>Fried Chicken Joint</td>\n      <td>Shopping Mall</td>\n      <td>Frozen Yogurt Shop</td>\n      <td>Pharmacy</td>\n      <td>Pizza Place</td>\n      <td>Deli / Bodega</td>\n      <td>Bridal Shop</td>\n      <td>Restaurant</td>\n      <td>Sandwich Place</td>\n    </tr>\n    <tr>\n      <th>12</th>\n      <td>North York</td>\n      <td>-79.487262</td>\n      <td>4.0</td>\n      <td>Coffee Shop</td>\n      <td>Miscellaneous Shop</td>\n      <td>Massage Studio</td>\n      <td>Bar</td>\n      <td>Women's Store</td>\n      <td>Discount Store</td>\n      <td>Comfort Food Restaurant</td>\n      <td>Construction &amp; Landscaping</td>\n      <td>Cosmetics Shop</td>\n      <td>Deli / Bodega</td>\n    </tr>\n    <tr>\n      <th>17</th>\n      <td>North York</td>\n      <td>-79.315572</td>\n      <td>4.0</td>\n      <td>Pizza Place</td>\n      <td>Coffee Shop</td>\n      <td>Portuguese Restaurant</td>\n      <td>Hockey Arena</td>\n      <td>Women's Store</td>\n      <td>Discount Store</td>\n      <td>Clothing Store</td>\n      <td>Comfort Food Restaurant</td>\n      <td>Construction &amp; Landscaping</td>\n      <td>Cosmetics Shop</td>\n    </tr>\n    <tr>\n      <th>18</th>\n      <td>North York</td>\n      <td>-79.419750</td>\n      <td>4.0</td>\n      <td>Coffee Shop</td>\n      <td>Fast Food Restaurant</td>\n      <td>Pizza Place</td>\n      <td>Italian Restaurant</td>\n      <td>Sandwich Place</td>\n      <td>Comfort Food Restaurant</td>\n      <td>Caf\u00e9</td>\n      <td>Butcher</td>\n      <td>Liquor Store</td>\n      <td>Juice Bar</td>\n    </tr>\n    <tr>\n      <th>19</th>\n      <td>North York</td>\n      <td>-79.464763</td>\n      <td>4.0</td>\n      <td>Accessories Store</td>\n      <td>Event Space</td>\n      <td>Gift Shop</td>\n      <td>Miscellaneous Shop</td>\n      <td>Coffee Shop</td>\n      <td>Shoe Store</td>\n      <td>Boutique</td>\n      <td>Clothing Store</td>\n      <td>Vietnamese Restaurant</td>\n      <td>Furniture / Home Store</td>\n    </tr>\n    <tr>\n      <th>22</th>\n      <td>North York</td>\n      <td>-79.565963</td>\n      <td>4.0</td>\n      <td>Pizza Place</td>\n      <td>Empanada Restaurant</td>\n      <td>Dog Run</td>\n      <td>Clothing Store</td>\n      <td>Coffee Shop</td>\n      <td>Comfort Food Restaurant</td>\n      <td>Construction &amp; Landscaping</td>\n      <td>Cosmetics Shop</td>\n      <td>Deli / Bodega</td>\n      <td>Department Store</td>\n    </tr>\n  </tbody>\n</table>\n</div>", 
                        "text/plain": "       Borough  Longitude  Cluster Labels 1st Most Common Venue  \\\n1   North York -79.346556             4.0        Clothing Store   \n5   North York -79.408493             4.0            Restaurant   \n7   North York -79.442259             4.0              Pharmacy   \n10  North York -79.340923             4.0           Coffee Shop   \n11  North York -79.442259             4.0           Coffee Shop   \n12  North York -79.487262             4.0           Coffee Shop   \n17  North York -79.315572             4.0           Pizza Place   \n18  North York -79.419750             4.0           Coffee Shop   \n19  North York -79.464763             4.0     Accessories Store   \n22  North York -79.565963             4.0           Pizza Place   \n\n   2nd Most Common Venue  3rd Most Common Venue 4th Most Common Venue  \\\n1   Fast Food Restaurant            Coffee Shop            Restaurant   \n5       Ramen Restaurant                   Caf\u00e9           Pizza Place   \n7            Pizza Place          Grocery Store           Coffee Shop   \n10      Asian Restaurant                    Gym            Beer Store   \n11   Fried Chicken Joint          Shopping Mall    Frozen Yogurt Shop   \n12    Miscellaneous Shop         Massage Studio                   Bar   \n17           Coffee Shop  Portuguese Restaurant          Hockey Arena   \n18  Fast Food Restaurant            Pizza Place    Italian Restaurant   \n19           Event Space              Gift Shop    Miscellaneous Shop   \n22   Empanada Restaurant                Dog Run        Clothing Store   \n\n   5th Most Common Venue    6th Most Common Venue       7th Most Common Venue  \\\n1       Asian Restaurant                   Bakery               Women's Store   \n5            Coffee Shop      Japanese Restaurant              Sandwich Place   \n7                Butcher           Discount Store              Clothing Store   \n10             Bike Shop           Clothing Store          Chinese Restaurant   \n11              Pharmacy              Pizza Place               Deli / Bodega   \n12         Women's Store           Discount Store     Comfort Food Restaurant   \n17         Women's Store           Discount Store              Clothing Store   \n18        Sandwich Place  Comfort Food Restaurant                        Caf\u00e9   \n19           Coffee Shop               Shoe Store                    Boutique   \n22           Coffee Shop  Comfort Food Restaurant  Construction & Landscaping   \n\n         8th Most Common Venue       9th Most Common Venue  \\\n1                   Food Court                   Gift Shop   \n5                Shopping Mall                    Pharmacy   \n7      Comfort Food Restaurant  Construction & Landscaping   \n10          Dim Sum Restaurant                    Bus Line   \n11                 Bridal Shop                  Restaurant   \n12  Construction & Landscaping              Cosmetics Shop   \n17     Comfort Food Restaurant  Construction & Landscaping   \n18                     Butcher                Liquor Store   \n19              Clothing Store       Vietnamese Restaurant   \n22              Cosmetics Shop               Deli / Bodega   \n\n    10th Most Common Venue  \n1           Cosmetics Shop  \n5                    Plaza  \n7           Cosmetics Shop  \n10     Japanese Restaurant  \n11          Sandwich Place  \n12           Deli / Bodega  \n17          Cosmetics Shop  \n18               Juice Bar  \n19  Furniture / Home Store  \n22        Department Store  "
                    }, 
                    "output_type": "execute_result"
                }
            ], 
            "source": "#Cluster 5\nnorthyork_merged.loc[northyork_merged['Cluster Labels'] == 4, northyork_merged.columns[[1] + list(range(5, northyork_merged.shape[1]))]]"
        }, 
        {
            "execution_count": null, 
            "cell_type": "code", 
            "metadata": {}, 
            "outputs": [], 
            "source": ""
        }
    ], 
    "metadata": {
        "kernelspec": {
            "display_name": "Python 3.5", 
            "name": "python3", 
            "language": "python"
        }, 
        "language_info": {
            "mimetype": "text/x-python", 
            "nbconvert_exporter": "python", 
            "version": "3.5.5", 
            "name": "python", 
            "file_extension": ".py", 
            "pygments_lexer": "ipython3", 
            "codemirror_mode": {
                "version": 3, 
                "name": "ipython"
            }
        }
    }, 
    "nbformat": 4
}
